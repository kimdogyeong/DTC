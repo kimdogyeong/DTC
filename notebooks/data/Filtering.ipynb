{
 "cells": [
  {
   "cell_type": "markdown",
   "metadata": {},
   "source": [
    "### 데이터 로드 및 초기 설정"
   ]
  },
  {
   "cell_type": "code",
   "execution_count": 1,
   "metadata": {},
   "outputs": [],
   "source": [
    "import pandas as pd\n",
    "import cv2\n",
    "import os"
   ]
  },
  {
   "cell_type": "code",
   "execution_count": 3,
   "metadata": {},
   "outputs": [],
   "source": [
    "# 데이터 경로 설정\n",
    "raw_data_path = \"../../data/raw\"\n",
    "train_image_path = os.path.join(raw_data_path, \"train\")\n",
    "test_image_path = os.path.join(raw_data_path, \"test\")\n",
    "\n",
    "# CSV 파일 로드\n",
    "meta_df = pd.read_csv(os.path.join(raw_data_path, \"meta.csv\"))\n",
    "train_df = pd.read_csv(os.path.join(raw_data_path, \"train.csv\"))\n",
    "sample_submission_df = pd.read_csv(os.path.join(raw_data_path, \"sample_submission.csv\"))"
   ]
  },
  {
   "cell_type": "code",
   "execution_count": 5,
   "metadata": {},
   "outputs": [
    {
     "name": "stdout",
     "output_type": "stream",
     "text": [
      "모든 이미지 회전 보정 완료!\n"
     ]
    }
   ],
   "source": [
    "import cv2\n",
    "import os\n",
    "\n",
    "def correct_image_rotation(input_path, output_path):\n",
    "    # 이미지 읽기\n",
    "    image = cv2.imread(input_path)\n",
    "    if image is None:\n",
    "        return  # 이미지 로드 실패 시 건너뜀\n",
    "\n",
    "    # 이미지의 가로/세로 비율 확인\n",
    "    height, width = image.shape[:2]\n",
    "    if height > width:  # 세로가 더 긴 경우, 90도 시계 방향 회전\n",
    "        rotated_image = cv2.rotate(image, cv2.ROTATE_90_CLOCKWISE)\n",
    "    else:  # 가로가 더 긴 경우, 회전하지 않음\n",
    "        rotated_image = image\n",
    "\n",
    "    # 수정된 이미지 저장\n",
    "    cv2.imwrite(output_path, rotated_image)\n",
    "\n",
    "# 폴더 경로 설정\n",
    "input_folder = \"../../data/raw/test\"  # 원본 이미지 폴더\n",
    "output_folder = \"../../data/processed/test_corrected\"  # 수정된 이미지 저장 폴더\n",
    "os.makedirs(output_folder, exist_ok=True)\n",
    "\n",
    "# 모든 이미지 처리\n",
    "for filename in os.listdir(input_folder):\n",
    "    input_path = os.path.join(input_folder, filename)\n",
    "    output_path = os.path.join(output_folder, filename)\n",
    "\n",
    "    correct_image_rotation(input_path, output_path)\n",
    "\n",
    "# 최종 완료 메시지만 출력\n",
    "print(\"모든 이미지 회전 보정 완료!\")\n"
   ]
  },
  {
   "cell_type": "code",
   "execution_count": 25,
   "metadata": {},
   "outputs": [
    {
     "name": "stdout",
     "output_type": "stream",
     "text": [
      "모든 이미지 화질 개선 완료!\n"
     ]
    }
   ],
   "source": [
    "import cv2\n",
    "import os\n",
    "\n",
    "def enhance_image_soft(input_path, output_path):\n",
    "    # 이미지 읽기\n",
    "    image = cv2.imread(input_path)\n",
    "    if image is None:\n",
    "        print(f\"Failed to load {input_path}\")\n",
    "        return\n",
    "\n",
    "    # 1. 부드러운 샤프닝 적용\n",
    "    gaussian_blur = cv2.GaussianBlur(image, (3, 3), 0)  # 더 작은 커널로 흐림 효과\n",
    "    sharpened = cv2.addWeighted(image, 1.2, gaussian_blur, -0.2, 0)  # 샤프닝 강도 감소\n",
    "\n",
    "    # 2. 대비 조정 (CLAHE 사용 - 더 자연스러운 결과 제공)\n",
    "    lab = cv2.cvtColor(sharpened, cv2.COLOR_BGR2LAB)\n",
    "    l, a, b = cv2.split(lab)\n",
    "    clahe = cv2.createCLAHE(clipLimit=2.0, tileGridSize=(8, 8))  # CLAHE 설정\n",
    "    l = clahe.apply(l)  # 밝기 채널에 CLAHE 적용\n",
    "    enhanced_image = cv2.merge((l, a, b))\n",
    "    enhanced_image = cv2.cvtColor(enhanced_image, cv2.COLOR_LAB2BGR)\n",
    "\n",
    "    # 3. 컬러 톤 조정 (전체적으로 부드러운 결과)\n",
    "    enhanced_image = cv2.addWeighted(enhanced_image, 0.8, image, 0.2, 0)\n",
    "\n",
    "    # 수정된 이미지 저장\n",
    "    cv2.imwrite(output_path, enhanced_image)\n",
    "\n",
    "# 폴더 경로 설정\n",
    "input_folder = \"../../data/raw/test\"  # 원본 이미지 폴더\n",
    "output_folder = \"../../data/processed/test_enhanced\"  # 수정된 이미지 저장 폴더\n",
    "os.makedirs(output_folder, exist_ok=True)\n",
    "\n",
    "# 모든 이미지 처리\n",
    "for filename in os.listdir(input_folder):\n",
    "    input_path = os.path.join(input_folder, filename)\n",
    "    output_path = os.path.join(output_folder, filename)\n",
    "\n",
    "    enhance_image_soft(input_path, output_path)\n",
    "\n",
    "# 최종 완료 메시지만 출력\n",
    "print(\"모든 이미지 화질 개선 완료!\")\n"
   ]
  },
  {
   "cell_type": "code",
   "execution_count": 26,
   "metadata": {},
   "outputs": [
    {
     "name": "stdout",
     "output_type": "stream",
     "text": [
      "모든 이미지 화질 개선 완료!\n"
     ]
    }
   ],
   "source": [
    "import cv2\n",
    "import os\n",
    "\n",
    "def enhance_image(input_path, output_path):\n",
    "    # 이미지 읽기\n",
    "    image = cv2.imread(input_path)\n",
    "    if image is None:\n",
    "        print(f\"Failed to load {input_path}\")\n",
    "        return\n",
    "\n",
    "    # 1. 이미지를 흐릿하게 만들고 샤프닝 (Unsharp Masking)\n",
    "    gaussian_blur = cv2.GaussianBlur(image, (5, 5), 0)  # 흐림 효과\n",
    "    sharpened = cv2.addWeighted(image, 1.5, gaussian_blur, -0.5, 0)  # 샤프닝\n",
    "    \n",
    "    # 2. 히스토그램 평활화로 대비 조정 (컬러 이미지)\n",
    "    lab = cv2.cvtColor(sharpened, cv2.COLOR_BGR2LAB)\n",
    "    l, a, b = cv2.split(lab)\n",
    "    l = cv2.equalizeHist(l)  # 밝기 채널에 히스토그램 평활화 적용\n",
    "    enhanced_image = cv2.merge((l, a, b))\n",
    "    enhanced_image = cv2.cvtColor(enhanced_image, cv2.COLOR_LAB2BGR)\n",
    "\n",
    "    # 수정된 이미지 저장\n",
    "    cv2.imwrite(output_path, enhanced_image)\n",
    "\n",
    "# 폴더 경로 설정\n",
    "input_folder = \"../../data/raw/test\"  # 원본 이미지 폴더\n",
    "output_folder = \"../../data/processed/test_blacked\"  # 수정된 이미지 저장 폴더\n",
    "os.makedirs(output_folder, exist_ok=True)\n",
    "\n",
    "# 모든 이미지 처리\n",
    "for filename in os.listdir(input_folder):\n",
    "    input_path = os.path.join(input_folder, filename)\n",
    "    output_path = os.path.join(output_folder, filename)\n",
    "\n",
    "    enhance_image(input_path, output_path)\n",
    "\n",
    "# 최종 완료 메시지만 출력\n",
    "print(\"모든 이미지 화질 개선 완료!\")\n"
   ]
  },
  {
   "cell_type": "code",
   "execution_count": null,
   "metadata": {},
   "outputs": [],
   "source": []
  }
 ],
 "metadata": {
  "kernelspec": {
   "display_name": "base",
   "language": "python",
   "name": "python3"
  },
  "language_info": {
   "codemirror_mode": {
    "name": "ipython",
    "version": 3
   },
   "file_extension": ".py",
   "mimetype": "text/x-python",
   "name": "python",
   "nbconvert_exporter": "python",
   "pygments_lexer": "ipython3",
   "version": "3.10.13"
  }
 },
 "nbformat": 4,
 "nbformat_minor": 2
}
